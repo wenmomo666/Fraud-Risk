{
 "cells": [
  {
   "cell_type": "markdown",
   "metadata": {},
   "source": [
    "### a). What percentage of users have churned in the data provided? [4 points]\n",
    "### b). Build a classifier that given a user with their features assigns a churn probability for everyuser and predicts which users will churn. How well does your classifier perform? State any metrics you deem important here. Based on the classifier output classify each user in the dataset as churned or not churned. [5 points]\n",
    "### c). List the most important features that correlate to user churn. [3 points]"
   ]
  },
  {
   "cell_type": "code",
   "execution_count": 1,
   "metadata": {},
   "outputs": [],
   "source": [
    "import numpy as np\n",
    "import pandas as pd\n",
    "import matplotlib.pyplot as plt\n",
    "import csv\n",
    "import datetime\n",
    "%matplotlib inline\n",
    "plt.style.use('ggplot')"
   ]
  },
  {
   "cell_type": "markdown",
   "metadata": {},
   "source": [
    "## 1. count chur rate by definition."
   ]
  },
  {
   "cell_type": "code",
   "execution_count": 2,
   "metadata": {},
   "outputs": [],
   "source": [
    "churned_user_set = set()\n",
    "\n",
    "with open(\"equity_value_data.csv\", newline = '') as csvfile:\n",
    "    reader = csv.DictReader(csvfile)\n",
    "    first_row = next(reader)\n",
    "    prev_date = datetime.datetime.strptime(first_row[\"timestamp\"], '%Y-%m-%dT%H:%M:%SZ')\n",
    "    prev_user = first_row[\"user_id\"]\n",
    "    total_user = 1\n",
    "    churned_user = 0\n",
    "    cur_churned = False\n",
    "\n",
    "    for row in reader:\n",
    "        cur_user = row[\"user_id\"]\n",
    "        cur_date = datetime.datetime.strptime(row[\"timestamp\"], '%Y-%m-%dT%H:%M:%SZ')\n",
    "        if cur_user != prev_user:\n",
    "            total_user = total_user + 1\n",
    "            prev_user = cur_user\n",
    "            cur_churned = False\n",
    "        else:\n",
    "            if((cur_date - prev_date).days >= 28 and not cur_churned):\n",
    "                cur_churned = True\n",
    "                churned_user = churned_user + 1\n",
    "                churned_user_set.add(cur_user)\n",
    "        prev_date = cur_date"
   ]
  },
  {
   "cell_type": "code",
   "execution_count": 3,
   "metadata": {},
   "outputs": [
    {
     "name": "stdout",
     "output_type": "stream",
     "text": [
      "total_user: 5584\n",
      "churned_user: 279\n"
     ]
    }
   ],
   "source": [
    "print(\"total_user: \" + str(total_user))\n",
    "print(\"churned_user: \" + str(churned_user))"
   ]
  },
  {
   "cell_type": "code",
   "execution_count": 4,
   "metadata": {},
   "outputs": [
    {
     "name": "stdout",
     "output_type": "stream",
     "text": [
      "0.04996418338108882\n"
     ]
    }
   ],
   "source": [
    "print(churned_user / total_user)"
   ]
  },
  {
   "cell_type": "markdown",
   "metadata": {},
   "source": [
    "## a).  4.996% users have churned."
   ]
  },
  {
   "cell_type": "markdown",
   "metadata": {},
   "source": [
    "## 2. Import the features_data and do some preprocessing"
   ]
  },
  {
   "cell_type": "code",
   "execution_count": 5,
   "metadata": {},
   "outputs": [],
   "source": [
    "df=pd.read_csv('features_data.csv')"
   ]
  },
  {
   "cell_type": "code",
   "execution_count": 6,
   "metadata": {
    "scrolled": true
   },
   "outputs": [],
   "source": [
    "df['churned'] = False\n",
    "for i in range(len(df)):\n",
    "    if df.at[i,'user_id'] in churned_user_set:\n",
    "        df.at[i,'churned'] = True"
   ]
  },
  {
   "cell_type": "code",
   "execution_count": 7,
   "metadata": {},
   "outputs": [],
   "source": [
    "discrete_column_names = ['risk_tolerance', 'investment_experience', 'liquidity_needs', 'platform', 'instrument_type_first_traded', 'time_horizon']    "
   ]
  },
  {
   "cell_type": "code",
   "execution_count": 8,
   "metadata": {},
   "outputs": [
    {
     "data": {
      "text/html": [
       "<div>\n",
       "<style scoped>\n",
       "    .dataframe tbody tr th:only-of-type {\n",
       "        vertical-align: middle;\n",
       "    }\n",
       "\n",
       "    .dataframe tbody tr th {\n",
       "        vertical-align: top;\n",
       "    }\n",
       "\n",
       "    .dataframe thead th {\n",
       "        text-align: right;\n",
       "    }\n",
       "</style>\n",
       "<table border=\"1\" class=\"dataframe\">\n",
       "  <thead>\n",
       "    <tr style=\"text-align: right;\">\n",
       "      <th></th>\n",
       "      <th>risk_tolerance</th>\n",
       "      <th>investment_experience</th>\n",
       "      <th>liquidity_needs</th>\n",
       "      <th>platform</th>\n",
       "      <th>time_spent</th>\n",
       "      <th>instrument_type_first_traded</th>\n",
       "      <th>first_deposit_amount</th>\n",
       "      <th>time_horizon</th>\n",
       "      <th>user_id</th>\n",
       "      <th>churned</th>\n",
       "    </tr>\n",
       "  </thead>\n",
       "  <tbody>\n",
       "    <tr>\n",
       "      <th>0</th>\n",
       "      <td>high_risk_tolerance</td>\n",
       "      <td>limited_investment_exp</td>\n",
       "      <td>very_important_liq_need</td>\n",
       "      <td>Android</td>\n",
       "      <td>33.129417</td>\n",
       "      <td>stock</td>\n",
       "      <td>40.0</td>\n",
       "      <td>med_time_horizon</td>\n",
       "      <td>895044c23edc821881e87da749c01034</td>\n",
       "      <td>False</td>\n",
       "    </tr>\n",
       "    <tr>\n",
       "      <th>1</th>\n",
       "      <td>med_risk_tolerance</td>\n",
       "      <td>limited_investment_exp</td>\n",
       "      <td>very_important_liq_need</td>\n",
       "      <td>Android</td>\n",
       "      <td>16.573517</td>\n",
       "      <td>stock</td>\n",
       "      <td>200.0</td>\n",
       "      <td>short_time_horizon</td>\n",
       "      <td>458b1d95441ced242949deefe8e4b638</td>\n",
       "      <td>False</td>\n",
       "    </tr>\n",
       "    <tr>\n",
       "      <th>2</th>\n",
       "      <td>med_risk_tolerance</td>\n",
       "      <td>limited_investment_exp</td>\n",
       "      <td>very_important_liq_need</td>\n",
       "      <td>iOS</td>\n",
       "      <td>10.008367</td>\n",
       "      <td>stock</td>\n",
       "      <td>25.0</td>\n",
       "      <td>long_time_horizon</td>\n",
       "      <td>c7936f653d293479e034865db9bb932f</td>\n",
       "      <td>False</td>\n",
       "    </tr>\n",
       "    <tr>\n",
       "      <th>3</th>\n",
       "      <td>med_risk_tolerance</td>\n",
       "      <td>limited_investment_exp</td>\n",
       "      <td>very_important_liq_need</td>\n",
       "      <td>Android</td>\n",
       "      <td>1.031633</td>\n",
       "      <td>stock</td>\n",
       "      <td>100.0</td>\n",
       "      <td>short_time_horizon</td>\n",
       "      <td>b255d4bd6c9ba194d3a350b3e76c6393</td>\n",
       "      <td>False</td>\n",
       "    </tr>\n",
       "    <tr>\n",
       "      <th>4</th>\n",
       "      <td>high_risk_tolerance</td>\n",
       "      <td>limited_investment_exp</td>\n",
       "      <td>very_important_liq_need</td>\n",
       "      <td>Android</td>\n",
       "      <td>8.187250</td>\n",
       "      <td>stock</td>\n",
       "      <td>20.0</td>\n",
       "      <td>long_time_horizon</td>\n",
       "      <td>4a168225e89375b8de605cbc0977ae91</td>\n",
       "      <td>False</td>\n",
       "    </tr>\n",
       "  </tbody>\n",
       "</table>\n",
       "</div>"
      ],
      "text/plain": [
       "        risk_tolerance   investment_experience          liquidity_needs  \\\n",
       "0  high_risk_tolerance  limited_investment_exp  very_important_liq_need   \n",
       "1   med_risk_tolerance  limited_investment_exp  very_important_liq_need   \n",
       "2   med_risk_tolerance  limited_investment_exp  very_important_liq_need   \n",
       "3   med_risk_tolerance  limited_investment_exp  very_important_liq_need   \n",
       "4  high_risk_tolerance  limited_investment_exp  very_important_liq_need   \n",
       "\n",
       "  platform  time_spent instrument_type_first_traded  first_deposit_amount  \\\n",
       "0  Android   33.129417                        stock                  40.0   \n",
       "1  Android   16.573517                        stock                 200.0   \n",
       "2      iOS   10.008367                        stock                  25.0   \n",
       "3  Android    1.031633                        stock                 100.0   \n",
       "4  Android    8.187250                        stock                  20.0   \n",
       "\n",
       "         time_horizon                           user_id  churned  \n",
       "0    med_time_horizon  895044c23edc821881e87da749c01034    False  \n",
       "1  short_time_horizon  458b1d95441ced242949deefe8e4b638    False  \n",
       "2   long_time_horizon  c7936f653d293479e034865db9bb932f    False  \n",
       "3  short_time_horizon  b255d4bd6c9ba194d3a350b3e76c6393    False  \n",
       "4   long_time_horizon  4a168225e89375b8de605cbc0977ae91    False  "
      ]
     },
     "execution_count": 8,
     "metadata": {},
     "output_type": "execute_result"
    }
   ],
   "source": [
    "df.head()"
   ]
  },
  {
   "cell_type": "code",
   "execution_count": 9,
   "metadata": {},
   "outputs": [],
   "source": [
    "df_dummy = pd.get_dummies(df[discrete_column_names], columns=discrete_column_names)"
   ]
  },
  {
   "cell_type": "markdown",
   "metadata": {},
   "source": [
    "There are many categories for this and we will see if this feature is not important, we can combine levels < 100 into 'instrument_others'."
   ]
  },
  {
   "cell_type": "code",
   "execution_count": 10,
   "metadata": {},
   "outputs": [],
   "source": [
    "df= df[['time_spent','first_deposit_amount','churned']].join(df_dummy)"
   ]
  },
  {
   "cell_type": "markdown",
   "metadata": {},
   "source": [
    "#### We can look at the correlation matrix to determin which features are important"
   ]
  },
  {
   "cell_type": "code",
   "execution_count": 11,
   "metadata": {},
   "outputs": [],
   "source": [
    "corr_matrix = df.corr()"
   ]
  },
  {
   "cell_type": "code",
   "execution_count": 12,
   "metadata": {},
   "outputs": [
    {
     "name": "stdout",
     "output_type": "stream",
     "text": [
      "<class 'pandas.core.frame.DataFrame'>\n",
      "RangeIndex: 5584 entries, 0 to 5583\n",
      "Data columns (total 30 columns):\n",
      "time_spent                                        5584 non-null float64\n",
      "first_deposit_amount                              5584 non-null float64\n",
      "churned                                           5584 non-null bool\n",
      "risk_tolerance_high_risk_tolerance                5584 non-null uint8\n",
      "risk_tolerance_low_risk_tolerance                 5584 non-null uint8\n",
      "risk_tolerance_med_risk_tolerance                 5584 non-null uint8\n",
      "investment_experience_extensive_investment_exp    5584 non-null uint8\n",
      "investment_experience_good_investment_exp         5584 non-null uint8\n",
      "investment_experience_limited_investment_exp      5584 non-null uint8\n",
      "investment_experience_no_investment_exp           5584 non-null uint8\n",
      "liquidity_needs_not_important_liq_need            5584 non-null uint8\n",
      "liquidity_needs_somewhat_important_liq_need       5584 non-null uint8\n",
      "liquidity_needs_very_important_liq_need           5584 non-null uint8\n",
      "platform_Android                                  5584 non-null uint8\n",
      "platform_both                                     5584 non-null uint8\n",
      "platform_iOS                                      5584 non-null uint8\n",
      "instrument_type_first_traded_0                    5584 non-null uint8\n",
      "instrument_type_first_traded_adr                  5584 non-null uint8\n",
      "instrument_type_first_traded_cef                  5584 non-null uint8\n",
      "instrument_type_first_traded_etp                  5584 non-null uint8\n",
      "instrument_type_first_traded_lp                   5584 non-null uint8\n",
      "instrument_type_first_traded_mlp                  5584 non-null uint8\n",
      "instrument_type_first_traded_reit                 5584 non-null uint8\n",
      "instrument_type_first_traded_rlt                  5584 non-null uint8\n",
      "instrument_type_first_traded_stock                5584 non-null uint8\n",
      "instrument_type_first_traded_tracking             5584 non-null uint8\n",
      "instrument_type_first_traded_wrt                  5584 non-null uint8\n",
      "time_horizon_long_time_horizon                    5584 non-null uint8\n",
      "time_horizon_med_time_horizon                     5584 non-null uint8\n",
      "time_horizon_short_time_horizon                   5584 non-null uint8\n",
      "dtypes: bool(1), float64(2), uint8(27)\n",
      "memory usage: 240.0 KB\n"
     ]
    }
   ],
   "source": [
    "df.info()"
   ]
  },
  {
   "cell_type": "code",
   "execution_count": 13,
   "metadata": {
    "scrolled": false
   },
   "outputs": [
    {
     "data": {
      "text/plain": [
       "risk_tolerance_high_risk_tolerance               -0.065313\n",
       "first_deposit_amount                             -0.029392\n",
       "platform_iOS                                     -0.026258\n",
       "time_horizon_med_time_horizon                    -0.017447\n",
       "liquidity_needs_very_important_liq_need          -0.014718\n",
       "instrument_type_first_traded_reit                -0.014549\n",
       "investment_experience_good_investment_exp        -0.013607\n",
       "instrument_type_first_traded_rlt                 -0.009214\n",
       "time_horizon_long_time_horizon                   -0.006274\n",
       "investment_experience_extensive_investment_exp   -0.005656\n",
       "time_spent                                       -0.004667\n",
       "instrument_type_first_traded_adr                 -0.003756\n",
       "instrument_type_first_traded_tracking            -0.003069\n",
       "instrument_type_first_traded_etp                 -0.000443\n",
       "instrument_type_first_traded_cef                  0.000010\n",
       "instrument_type_first_traded_stock                0.001976\n",
       "instrument_type_first_traded_mlp                  0.002097\n",
       "investment_experience_limited_investment_exp      0.005263\n",
       "instrument_type_first_traded_0                    0.005977\n",
       "platform_Android                                  0.006645\n",
       "investment_experience_no_investment_exp           0.007504\n",
       "liquidity_needs_somewhat_important_liq_need       0.009456\n",
       "liquidity_needs_not_important_liq_need            0.012174\n",
       "instrument_type_first_traded_lp                   0.013045\n",
       "instrument_type_first_traded_wrt                  0.018462\n",
       "time_horizon_short_time_horizon                   0.018828\n",
       "platform_both                                     0.033727\n",
       "risk_tolerance_med_risk_tolerance                 0.040776\n",
       "risk_tolerance_low_risk_tolerance                 0.061152\n",
       "churned                                           1.000000\n",
       "Name: churned, dtype: float64"
      ]
     },
     "execution_count": 13,
     "metadata": {},
     "output_type": "execute_result"
    }
   ],
   "source": [
    "corr_matrix['churned'].sort_values()"
   ]
  },
  {
   "cell_type": "code",
   "execution_count": 14,
   "metadata": {},
   "outputs": [],
   "source": [
    "y = df['churned'].values"
   ]
  },
  {
   "cell_type": "code",
   "execution_count": 15,
   "metadata": {},
   "outputs": [],
   "source": [
    "selected_features = list(df.columns)"
   ]
  },
  {
   "cell_type": "code",
   "execution_count": 16,
   "metadata": {},
   "outputs": [],
   "source": [
    "df1=df.drop(['churned'],axis=1)"
   ]
  },
  {
   "cell_type": "code",
   "execution_count": 17,
   "metadata": {},
   "outputs": [
    {
     "data": {
      "text/plain": [
       "['time_spent',\n",
       " 'first_deposit_amount',\n",
       " 'risk_tolerance_high_risk_tolerance',\n",
       " 'risk_tolerance_low_risk_tolerance',\n",
       " 'risk_tolerance_med_risk_tolerance',\n",
       " 'investment_experience_extensive_investment_exp',\n",
       " 'investment_experience_good_investment_exp',\n",
       " 'investment_experience_limited_investment_exp',\n",
       " 'investment_experience_no_investment_exp',\n",
       " 'liquidity_needs_not_important_liq_need',\n",
       " 'liquidity_needs_somewhat_important_liq_need',\n",
       " 'liquidity_needs_very_important_liq_need',\n",
       " 'platform_Android',\n",
       " 'platform_both',\n",
       " 'platform_iOS',\n",
       " 'instrument_type_first_traded_0',\n",
       " 'instrument_type_first_traded_adr',\n",
       " 'instrument_type_first_traded_cef',\n",
       " 'instrument_type_first_traded_etp',\n",
       " 'instrument_type_first_traded_lp',\n",
       " 'instrument_type_first_traded_mlp',\n",
       " 'instrument_type_first_traded_reit',\n",
       " 'instrument_type_first_traded_rlt',\n",
       " 'instrument_type_first_traded_stock',\n",
       " 'instrument_type_first_traded_tracking',\n",
       " 'instrument_type_first_traded_wrt',\n",
       " 'time_horizon_long_time_horizon',\n",
       " 'time_horizon_med_time_horizon',\n",
       " 'time_horizon_short_time_horizon']"
      ]
     },
     "execution_count": 17,
     "metadata": {},
     "output_type": "execute_result"
    }
   ],
   "source": [
    "selected_features=list(df1.columns)\n",
    "selected_features"
   ]
  },
  {
   "cell_type": "code",
   "execution_count": 18,
   "metadata": {},
   "outputs": [],
   "source": [
    "X = df[selected_features].values"
   ]
  },
  {
   "cell_type": "code",
   "execution_count": 19,
   "metadata": {},
   "outputs": [
    {
     "data": {
      "text/plain": [
       "((5584, 29), (5584,))"
      ]
     },
     "execution_count": 19,
     "metadata": {},
     "output_type": "execute_result"
    }
   ],
   "source": [
    "X.shape, y.shape"
   ]
  },
  {
   "cell_type": "markdown",
   "metadata": {},
   "source": [
    "## 3. Model training using random forest\n",
    "- I choose random forest since it deals with categorical features well and we can get directly the feature importance."
   ]
  },
  {
   "cell_type": "code",
   "execution_count": 20,
   "metadata": {},
   "outputs": [],
   "source": [
    "from sklearn.model_selection import train_test_split\n",
    "\n",
    "X_train, X_test, y_train, y_test = train_test_split(X, y, test_size=0.2, random_state=0)"
   ]
  },
  {
   "cell_type": "code",
   "execution_count": 21,
   "metadata": {},
   "outputs": [
    {
     "data": {
      "text/plain": [
       "RandomForestClassifier(bootstrap=True, class_weight=None, criterion='gini',\n",
       "                       max_depth=20, max_features='auto', max_leaf_nodes=None,\n",
       "                       min_impurity_decrease=0.0, min_impurity_split=None,\n",
       "                       min_samples_leaf=20, min_samples_split=2,\n",
       "                       min_weight_fraction_leaf=0.0, n_estimators=200,\n",
       "                       n_jobs=-1, oob_score=False, random_state=0, verbose=0,\n",
       "                       warm_start=False)"
      ]
     },
     "execution_count": 21,
     "metadata": {},
     "output_type": "execute_result"
    }
   ],
   "source": [
    "from sklearn.ensemble import RandomForestClassifier\n",
    "\n",
    "parameters = {'n_estimators': 200,\n",
    "              'max_features': 'auto',\n",
    "              'max_depth': 20,\n",
    "              'min_samples_leaf': 20,\n",
    "              'random_state': 0,\n",
    "              'n_jobs': -1\n",
    "             }\n",
    "\n",
    "clf = RandomForestClassifier(**parameters)\n",
    "\n",
    "clf.fit(X_train, y_train)"
   ]
  },
  {
   "cell_type": "code",
   "execution_count": 22,
   "metadata": {},
   "outputs": [
    {
     "data": {
      "text/plain": [
       "0.9514215357062906"
      ]
     },
     "execution_count": 22,
     "metadata": {},
     "output_type": "execute_result"
    }
   ],
   "source": [
    "clf.score(X_train, y_train)"
   ]
  },
  {
   "cell_type": "code",
   "execution_count": 23,
   "metadata": {
    "scrolled": false
   },
   "outputs": [
    {
     "data": {
      "text/plain": [
       "0.9444941808415398"
      ]
     },
     "execution_count": 23,
     "metadata": {},
     "output_type": "execute_result"
    }
   ],
   "source": [
    "clf.score(X_test, y_test)"
   ]
  },
  {
   "cell_type": "markdown",
   "metadata": {},
   "source": [
    "#### The accuracy score (for threshold 0.5) looks good. But the dataset is imbalanced, therefore we need to look at other metrics to evaluate the model."
   ]
  },
  {
   "cell_type": "code",
   "execution_count": 24,
   "metadata": {},
   "outputs": [],
   "source": [
    "from sklearn.metrics import roc_auc_score, accuracy_score, precision_score, recall_score, f1_score\n",
    "# A method to print the metric scores\n",
    "def get_performance_metrics(y_train, p_train_pred, y_test, p_test_pred, threshold=0.5):\n",
    "    metric_names = ['AUC', 'Accuracy', 'Precision', 'Recall', 'f1_score']\n",
    "    metric_values_train = [roc_auc_score(y_train, p_train_pred),\n",
    "                           accuracy_score(y_train, p_train_pred>threshold),\n",
    "                           precision_score(y_train, p_train_pred>threshold),\n",
    "                           recall_score(y_train, p_train_pred>threshold),\n",
    "                           f1_score(y_train, p_train_pred>threshold)\n",
    "                           ]\n",
    "    metric_values_test = [roc_auc_score(y_test, p_test_pred),\n",
    "                         accuracy_score(y_test, p_test_pred>threshold),\n",
    "                         precision_score(y_test, p_test_pred>threshold),\n",
    "                         recall_score(y_test, p_test_pred>threshold),\n",
    "                         f1_score(y_test, p_test_pred>threshold)\n",
    "                         ]\n",
    "    \n",
    "    all_metrics = pd.DataFrame({'metrics':metric_names,\n",
    "                               'train': metric_values_train,\n",
    "                               'test': metric_values_test}).set_index('metrics')\n",
    "    print(all_metrics)"
   ]
  },
  {
   "cell_type": "code",
   "execution_count": 25,
   "metadata": {},
   "outputs": [],
   "source": [
    "from sklearn.metrics import roc_curve\n",
    "\n",
    "def plot_roc_curve(y_train, y_train_pred, y_test, y_test_pred):\n",
    "    roc_auc_train = roc_auc_score(y_train, y_train_pred)\n",
    "    fpr_train, tpr_train, _ = roc_curve(y_train, y_train_pred)\n",
    "    \n",
    "    roc_auc_test = roc_auc_score(y_test, y_test_pred)\n",
    "    fpr_test, tpr_test, _ = roc_curve(y_test, y_test_pred)\n",
    "    \n",
    "    plt.figure()\n",
    "    lw = 2\n",
    "    plt.plot(fpr_train, tpr_train, color='green', lw=lw, \n",
    "            label = 'ROC Train (AUC = %0.4f)' % roc_auc_train)\n",
    "    plt.plot(fpr_test, tpr_test, color='darkorange', lw=lw,\n",
    "            label = 'ROC Test (AUC = %0.4f)' % roc_auc_test, linestyle='--')\n",
    "    plt.plot([0, 1], [0, 1], color='navy', lw=lw, linestyle='--')\n",
    "    plt.xlim([0.0, 1.0])\n",
    "    plt.ylim([0.0, 1.05])\n",
    "    plt.xlabel('False positive rate')\n",
    "    plt.ylabel('True positive rate')\n",
    "    plt.title('The AOC curve')\n",
    "    plt.legend(loc='lower right')\n",
    "    plt.savefig('roc.png')\n",
    "    plt.show()\n",
    "   "
   ]
  },
  {
   "cell_type": "code",
   "execution_count": 26,
   "metadata": {},
   "outputs": [],
   "source": [
    "def train_print_plot(clf, X_train, y_train, X_test, y_test):\n",
    "    clf.fit(X_train, y_train)\n",
    "    \n",
    "    y_train_pred = clf.predict(X_train)\n",
    "    p_train_pred = clf.predict_proba(X_train)[:,1]\n",
    "    \n",
    "    y_test_pred = clf.predict(X_test)\n",
    "    p_test_pred = clf.predict_proba(X_test)[:,1]\n",
    "    \n",
    "    get_performance_metrics(y_train, p_train_pred, y_test, p_test_pred, threshold=0.5)\n",
    "    plot_roc_curve(y_train, p_train_pred, y_test, p_test_pred)"
   ]
  },
  {
   "cell_type": "code",
   "execution_count": 27,
   "metadata": {
    "scrolled": false
   },
   "outputs": [
    {
     "name": "stderr",
     "output_type": "stream",
     "text": [
      "/anaconda3/lib/python3.6/site-packages/sklearn/metrics/classification.py:1437: UndefinedMetricWarning: Precision is ill-defined and being set to 0.0 due to no predicted samples.\n",
      "  'precision', 'predicted', average, warn_for)\n",
      "/anaconda3/lib/python3.6/site-packages/sklearn/metrics/classification.py:1437: UndefinedMetricWarning: F-score is ill-defined and being set to 0.0 due to no predicted samples.\n",
      "  'precision', 'predicted', average, warn_for)\n",
      "/anaconda3/lib/python3.6/site-packages/sklearn/metrics/classification.py:1437: UndefinedMetricWarning: Precision is ill-defined and being set to 0.0 due to no predicted samples.\n",
      "  'precision', 'predicted', average, warn_for)\n",
      "/anaconda3/lib/python3.6/site-packages/sklearn/metrics/classification.py:1437: UndefinedMetricWarning: F-score is ill-defined and being set to 0.0 due to no predicted samples.\n",
      "  'precision', 'predicted', average, warn_for)\n"
     ]
    },
    {
     "name": "stdout",
     "output_type": "stream",
     "text": [
      "               test     train\n",
      "metrics                      \n",
      "AUC        0.615808  0.832915\n",
      "Accuracy   0.944494  0.951422\n",
      "Precision  0.000000  0.000000\n",
      "Recall     0.000000  0.000000\n",
      "f1_score   0.000000  0.000000\n"
     ]
    },
    {
     "data": {
      "image/png": "[encoded data removed]",
      "text/plain": [
       "<matplotlib.figure.Figure at 0x1a1ebc8588>"
      ]
     },
     "metadata": {},
     "output_type": "display_data"
    }
   ],
   "source": [
    "train_print_plot(clf, X_train, y_train, X_test, y_test)"
   ]
  },
  {
   "cell_type": "markdown",
   "metadata": {},
   "source": [
    "#### There is some problem calculating some metrics. But we can infer from the AUC score that the performance is OK but there is much overfitting. Therefore I will use some oversampling method, SMOTE to get a balanced sample and train and evaluate the model again."
   ]
  },
  {
   "cell_type": "code",
   "execution_count": 28,
   "metadata": {},
   "outputs": [],
   "source": [
    "def plot_imp_tree(clf, selected_features):\n",
    "    \n",
    "    importances = clf.feature_importances_\n",
    "    df_imp = pd.DataFrame({'feature': selected_features,\n",
    "                           'importance': importances\n",
    "                          }).sort_values(by=['importance'], ascending=True).set_index('feature')\n",
    "    df_imp.plot.barh()\n",
    "    plt.title('Importances of the variables')\n",
    "    plt.tight_layout()\n",
    "    #plt.figure(figsize=(80,80))\n",
    "    print(df_imp)\n",
    "    plt.show()"
   ]
  },
  {
   "cell_type": "markdown",
   "metadata": {},
   "source": [
    "## Here is the anser for c)"
   ]
  },
  {
   "cell_type": "code",
   "execution_count": 29,
   "metadata": {},
   "outputs": [
    {
     "name": "stdout",
     "output_type": "stream",
     "text": [
      "                                                importance\n",
      "feature                                                   \n",
      "instrument_type_first_traded_rlt                  0.000000\n",
      "instrument_type_first_traded_wrt                  0.000000\n",
      "instrument_type_first_traded_lp                   0.000000\n",
      "instrument_type_first_traded_tracking             0.000000\n",
      "instrument_type_first_traded_cef                  0.000000\n",
      "instrument_type_first_traded_0                    0.000000\n",
      "instrument_type_first_traded_reit                 0.000171\n",
      "investment_experience_extensive_investment_exp    0.000883\n",
      "instrument_type_first_traded_mlp                  0.001009\n",
      "instrument_type_first_traded_adr                  0.005580\n",
      "instrument_type_first_traded_etp                  0.009329\n",
      "liquidity_needs_not_important_liq_need            0.012630\n",
      "time_horizon_med_time_horizon                     0.013083\n",
      "instrument_type_first_traded_stock                0.017025\n",
      "platform_Android                                  0.020407\n",
      "investment_experience_good_investment_exp         0.020953\n",
      "liquidity_needs_somewhat_important_liq_need       0.023244\n",
      "platform_both                                     0.023457\n",
      "investment_experience_no_investment_exp           0.028348\n",
      "time_horizon_short_time_horizon                   0.029588\n",
      "risk_tolerance_low_risk_tolerance                 0.030000\n",
      "investment_experience_limited_investment_exp      0.031048\n",
      "time_horizon_long_time_horizon                    0.031238\n",
      "platform_iOS                                      0.031427\n",
      "liquidity_needs_very_important_liq_need           0.031906\n",
      "risk_tolerance_med_risk_tolerance                 0.041091\n",
      "risk_tolerance_high_risk_tolerance                0.058672\n",
      "time_spent                                        0.259056\n",
      "first_deposit_amount                              0.279857\n"
     ]
    },
    {
     "data": {
      "image/png": "[encoded data removed]",
      "text/plain": [
       "<matplotlib.figure.Figure at 0x1a1ec1f898>"
      ]
     },
     "metadata": {},
     "output_type": "display_data"
    }
   ],
   "source": [
    "plot_imp_tree(clf, selected_features)"
   ]
  },
  {
   "cell_type": "code",
   "execution_count": 30,
   "metadata": {},
   "outputs": [
    {
     "name": "stderr",
     "output_type": "stream",
     "text": [
      "/anaconda3/lib/python3.6/site-packages/h5py/__init__.py:36: FutureWarning: Conversion of the second argument of issubdtype from `float` to `np.floating` is deprecated. In future, it will be treated as `np.float64 == np.dtype(float).type`.\n",
      "  from ._conv import register_converters as _register_converters\n",
      "Using TensorFlow backend.\n",
      "/anaconda3/lib/python3.6/importlib/_bootstrap.py:219: RuntimeWarning: compiletime version 3.5 of module 'tensorflow.python.framework.fast_tensor_util' does not match runtime version 3.6\n",
      "  return f(*args, **kwds)\n"
     ]
    }
   ],
   "source": [
    "from imblearn.over_sampling import SMOTE\n",
    "sm = SMOTE(random_state=42)"
   ]
  },
  {
   "cell_type": "code",
   "execution_count": 31,
   "metadata": {},
   "outputs": [],
   "source": [
    "X_res, y_res = sm.fit_resample(X, y)"
   ]
  },
  {
   "cell_type": "code",
   "execution_count": 32,
   "metadata": {},
   "outputs": [
    {
     "data": {
      "text/plain": [
       "Counter({False: 5305, True: 5305})"
      ]
     },
     "execution_count": 32,
     "metadata": {},
     "output_type": "execute_result"
    }
   ],
   "source": [
    "from collections import Counter\n",
    "Counter(y_res)"
   ]
  },
  {
   "cell_type": "code",
   "execution_count": 33,
   "metadata": {},
   "outputs": [],
   "source": [
    "X_train, X_test, y_train, y_test = train_test_split(X_res, y_res, test_size=0.2, random_state=0)"
   ]
  },
  {
   "cell_type": "code",
   "execution_count": 34,
   "metadata": {},
   "outputs": [
    {
     "data": {
      "text/plain": [
       "RandomForestClassifier(bootstrap=True, class_weight=None, criterion='gini',\n",
       "                       max_depth=20, max_features='auto', max_leaf_nodes=None,\n",
       "                       min_impurity_decrease=0.0, min_impurity_split=None,\n",
       "                       min_samples_leaf=20, min_samples_split=2,\n",
       "                       min_weight_fraction_leaf=0.0, n_estimators=200,\n",
       "                       n_jobs=-1, oob_score=False, random_state=0, verbose=0,\n",
       "                       warm_start=False)"
      ]
     },
     "execution_count": 34,
     "metadata": {},
     "output_type": "execute_result"
    }
   ],
   "source": [
    "from sklearn.ensemble import RandomForestClassifier\n",
    "\n",
    "parameters = {'n_estimators': 200,\n",
    "              'max_features': 'auto',\n",
    "              'max_depth': 20,\n",
    "              'min_samples_leaf': 20,\n",
    "              'random_state': 0,\n",
    "              'n_jobs': -1\n",
    "             }\n",
    "\n",
    "clf = RandomForestClassifier(**parameters)\n",
    "\n",
    "clf.fit(X_train, y_train)"
   ]
  },
  {
   "cell_type": "markdown",
   "metadata": {},
   "source": [
    "### Answer for b) below is the performace of the model"
   ]
  },
  {
   "cell_type": "code",
   "execution_count": 35,
   "metadata": {},
   "outputs": [
    {
     "name": "stdout",
     "output_type": "stream",
     "text": [
      "               test     train\n",
      "metrics                      \n",
      "AUC        0.987096  0.986031\n",
      "Accuracy   0.965598  0.962182\n",
      "Precision  1.000000  0.999744\n",
      "Recall     0.932532  0.924224\n",
      "f1_score   0.965088  0.960502\n"
     ]
    },
    {
     "data": {
      "image/png": "[encoded data removed]",
      "text/plain": [
       "<matplotlib.figure.Figure at 0x1a1e269898>"
      ]
     },
     "metadata": {},
     "output_type": "display_data"
    }
   ],
   "source": [
    "fig=train_print_plot(clf, X_train, y_train, X_test, y_test)\n",
    "fig"
   ]
  },
  {
   "cell_type": "markdown",
   "metadata": {},
   "source": [
    "#### It get better, but at the sacrifice of a relatively low recall score. We could change the threshold according out needs in order to get a good model."
   ]
  },
  {
   "cell_type": "markdown",
   "metadata": {},
   "source": [
    "## Summary\n",
    "- First we difine the churn label.\n",
    "- Then we use random forest classifier to train and predict the churn lables. Since the dataset is imbalanced, use SMOTE to do the oversampling and improve the model.\n",
    "- Some other thoughts: \n",
    "    * We could use average close_equtity from the equity_value_data as a feature.\n",
    "    * Group the unimportant instrument types to reduce the dimension.\n",
    "    * Change the threshold to get a disired model."
   ]
  }
 ],
 "metadata": {
  "kernelspec": {
   "display_name": "Python 3",
   "language": "python",
   "name": "python3"
  },
  "language_info": {
   "codemirror_mode": {
    "name": "ipython",
    "version": 3
   },
   "file_extension": ".py",
   "mimetype": "text/x-python",
   "name": "python",
   "nbconvert_exporter": "python",
   "pygments_lexer": "ipython3",
   "version": "3.6.4"
  }
 },
 "nbformat": 4,
 "nbformat_minor": 2
}
